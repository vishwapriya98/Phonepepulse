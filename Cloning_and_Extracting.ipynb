{
  "cells": [
    {
      "cell_type": "code",
      "execution_count": 1,
      "metadata": {
        "colab": {
          "base_uri": "https://localhost:8080/"
        },
        "id": "mPRwOhZ-0tPq",
        "outputId": "34d87145-03a2-4474-982a-4add56fb7aa7"
      },
      "outputs": [
        {
          "name": "stderr",
          "output_type": "stream",
          "text": [
            "'git' is not recognized as an internal or external command,\n",
            "operable program or batch file.\n"
          ]
        }
      ],
      "source": [
        "!git clone https://github.com/PhonePe/pulse.git"
      ]
    },
    {
      "cell_type": "code",
      "execution_count": 2,
      "metadata": {
        "id": "PXX-JeFV06db"
      },
      "outputs": [],
      "source": [
        "\n",
        "\n",
        "import os\n",
        "import json\n",
        "import subprocess\n",
        "\n",
        "import pandas as pd\n",
        "#import sqlite3\n",
        "import requests"
      ]
    },
    {
      "cell_type": "code",
      "execution_count": null,
      "metadata": {
        "id": "7BWdCRW51aPA"
      },
      "outputs": [],
      "source": [
        "path1 = \"/content/pulse/data/aggregated/transaction/country/india/state/\"\n",
        "Agg_state_list = os.listdir(path1)\n",
        "\n",
        "col1 = {'State': [], 'Year': [], 'Quater': [], 'Transaction_type': [], 'Transaction_count': [],\n",
        "        'Transaction_amount': []}\n",
        "for i in Agg_state_list:\n",
        "    p_i = path1 + i + \"/\"\n",
        "    Agg_yr = os.listdir(p_i)\n",
        "\n",
        "    for j in Agg_yr:\n",
        "        p_j = p_i + j + \"/\"\n",
        "        Agg_yr_list = os.listdir(p_j)\n",
        "\n",
        "        for k in Agg_yr_list:\n",
        "            p_k = p_j + k\n",
        "            # print(p_k)\n",
        "            Data = open(p_k, 'r')\n",
        "            A = json.load(Data)\n",
        "            for z in A['data']['transactionData']:\n",
        "                Name = z['name']\n",
        "                count = z['paymentInstruments'][0]['count']\n",
        "                amount = z['paymentInstruments'][0]['amount']\n",
        "                col1['Transaction_type'].append(Name)\n",
        "                col1['Transaction_count'].append(count)\n",
        "                col1['Transaction_amount'].append(amount)\n",
        "                col1['State'].append(i)\n",
        "                col1['Year'].append(j)\n",
        "                col1['Quater'].append(int(k.strip('.json')))\n",
        "df_aggregated_transaction = pd.DataFrame(col1)\n",
        "# df_aggregated_transaction"
      ]
    },
    {
      "cell_type": "code",
      "execution_count": null,
      "metadata": {
        "id": "vyz1_Z9f1Num"
      },
      "outputs": [],
      "source": [
        "# TO GET THE DATA-FRAME OF AGGREGATED <--> USER\n",
        "\n",
        "path2 = \"/content/pulse/data/aggregated/user/country/india/state/\"\n",
        "user_list = os.listdir(path2)\n",
        "\n",
        "col2 = {'State': [], 'Year': [], 'Quater': [], 'brands': [], 'Count': [],\n",
        "        'Percentage': []}\n",
        "for i in user_list:\n",
        "    p_i = path2 + i + \"/\"\n",
        "    Agg_yr = os.listdir(p_i)\n",
        "\n",
        "    for j in Agg_yr:\n",
        "        p_j = p_i + j + \"/\"\n",
        "        Agg_yr_list = os.listdir(p_j)\n",
        "\n",
        "        for k in Agg_yr_list:\n",
        "            p_k = p_j + k\n",
        "            # print(p_k)\n",
        "            Data = open(p_k, 'r')\n",
        "            B = json.load(Data)\n",
        "            try:\n",
        "                for w in B[\"data\"][\"usersByDevice\"]:\n",
        "                    brand_name = w[\"brand\"]\n",
        "                    count_ = w[\"count\"]\n",
        "                    ALL_percentage = w[\"percentage\"]\n",
        "                    col2[\"brands\"].append(brand_name)\n",
        "                    col2[\"Count\"].append(count_)\n",
        "                    col2[\"Percentage\"].append(ALL_percentage)\n",
        "                    col2[\"State\"].append(i)\n",
        "                    col2[\"Year\"].append(j)\n",
        "                    col2[\"Quater\"].append(int(k.strip('.json')))\n",
        "            except:\n",
        "                pass\n",
        "df_aggregated_user = pd.DataFrame(col2)\n",
        "# df_aggregated_user"
      ]
    },
    {
      "cell_type": "code",
      "execution_count": null,
      "metadata": {
        "id": "uFjwoRCY2bam"
      },
      "outputs": [],
      "source": [
        "# TO GET THE DATA-FRAME OF MAP <--> TRANSACTION\n",
        "\n",
        "path3 = \"/content/pulse/data/map/transaction/hover/country/india/state/\"\n",
        "hover_list = os.listdir(path3)\n",
        "\n",
        "col3 = {'State': [], 'Year': [], 'Quater': [], 'District': [], 'count': [],\n",
        "        'amount': []}\n",
        "for i in hover_list:\n",
        "    p_i = path3 + i + \"/\"\n",
        "    Agg_yr = os.listdir(p_i)\n",
        "\n",
        "    for j in Agg_yr:\n",
        "        p_j = p_i + j + \"/\"\n",
        "        Agg_yr_list = os.listdir(p_j)\n",
        "\n",
        "        for k in Agg_yr_list:\n",
        "            p_k = p_j + k\n",
        "            # print(p_k)\n",
        "            Data = open(p_k, 'r')\n",
        "            C = json.load(Data)\n",
        "            for x in C[\"data\"][\"hoverDataList\"]:\n",
        "                District = x[\"name\"]\n",
        "                count = x[\"metric\"][0][\"count\"]\n",
        "                amount = x[\"metric\"][0][\"amount\"]\n",
        "                col3[\"District\"].append(District)\n",
        "                col3[\"count\"].append(count)\n",
        "                col3[\"amount\"].append(amount)\n",
        "                col3['State'].append(i)\n",
        "                col3['Year'].append(j)\n",
        "                col3['Quater'].append(int(k.strip('.json')))\n",
        "df_map_transaction = pd.DataFrame(col3)\n",
        "# df_map_transaction"
      ]
    },
    {
      "cell_type": "code",
      "execution_count": null,
      "metadata": {
        "id": "fci3KpD92bvR"
      },
      "outputs": [],
      "source": [
        "# TO GET THE DATA-FRAME OF MAP <--> USER\n",
        "\n",
        "path4 = \"/content/pulse/data/map/user/hover/country/india/state/\"\n",
        "map_list = os.listdir(path4)\n",
        "\n",
        "col4 = {\"State\": [], \"Year\": [], \"Quater\": [], \"District\": [],\n",
        "        \"RegisteredUser\": []}\n",
        "for i in map_list:\n",
        "    p_i = path4 + i + \"/\"\n",
        "    Agg_yr = os.listdir(p_i)\n",
        "\n",
        "    for j in Agg_yr:\n",
        "        p_j = p_i + j + \"/\"\n",
        "        Agg_yr_list = os.listdir(p_j)\n",
        "\n",
        "        for k in Agg_yr_list:\n",
        "            p_k = p_j + k\n",
        "            # print(p_k)\n",
        "            Data = open(p_k, 'r')\n",
        "            D = json.load(Data)\n",
        "\n",
        "            for u in D[\"data\"][\"hoverData\"].items():\n",
        "                district = u[0]\n",
        "                registereduser = u[1][\"registeredUsers\"]\n",
        "                col4[\"District\"].append(district)\n",
        "                col4[\"RegisteredUser\"].append(registereduser)\n",
        "                col4['State'].append(i)\n",
        "                col4['Year'].append(j)\n",
        "                col4['Quater'].append(int(k.strip('.json')))\n",
        "df_map_user = pd.DataFrame(col4)\n",
        "# df_map_user\n"
      ]
    },
    {
      "cell_type": "code",
      "execution_count": null,
      "metadata": {
        "id": "ZOI5fwvj2by9"
      },
      "outputs": [],
      "source": [
        "# TO GET THE DATA-FRAME OF TOP <--> TRANSACTION\n",
        "\n",
        "path5 = \"/content/pulse/data/top/transaction/country/india/state/\"\n",
        "TOP_list = os.listdir(path5)\n",
        "\n",
        "col5 = {'State': [], 'Year': [], 'Quater': [], 'District': [], 'Transaction_count': [],\n",
        "        'Transaction_amount': []}\n",
        "for i in TOP_list:\n",
        "    p_i = path5 + i + \"/\"\n",
        "    Agg_yr = os.listdir(p_i)\n",
        "\n",
        "    for j in Agg_yr:\n",
        "        p_j = p_i + j + \"/\"\n",
        "        Agg_yr_list = os.listdir(p_j)\n",
        "\n",
        "        for k in Agg_yr_list:\n",
        "            p_k = p_j + k\n",
        "            # print(p_k)\n",
        "            Data = open(p_k, 'r')\n",
        "            E = json.load(Data)\n",
        "            for z in E['data']['pincodes']:\n",
        "                Name = z['entityName']\n",
        "                count = z['metric']['count']\n",
        "                amount = z['metric']['amount']\n",
        "                col5['District'].append(Name)\n",
        "                col5['Transaction_count'].append(count)\n",
        "                col5['Transaction_amount'].append(amount)\n",
        "                col5['State'].append(i)\n",
        "                col5['Year'].append(j)\n",
        "                col5['Quater'].append(int(k.strip('.json')))\n",
        "df_top_transaction = pd.DataFrame(col5)\n",
        "# df_top_transaction\n"
      ]
    },
    {
      "cell_type": "code",
      "execution_count": null,
      "metadata": {
        "id": "qahNTJd63A2A"
      },
      "outputs": [],
      "source": [
        "# TO GET THE DATA-FRAME OF TOP <--> USER\n",
        "\n",
        "path6 = \"/content/pulse/data/top/user/country/india/state/\"\n",
        "USER_list = os.listdir(path6)\n",
        "\n",
        "col6 = {'State': [], 'Year': [], 'Quater': [], 'District': [],\n",
        "        'RegisteredUser': []}\n",
        "for i in USER_list:\n",
        "    p_i = path6 + i + \"/\"\n",
        "    Agg_yr = os.listdir(p_i)\n",
        "\n",
        "    for j in Agg_yr:\n",
        "        p_j = p_i + j + \"/\"\n",
        "        Agg_yr_list = os.listdir(p_j)\n",
        "\n",
        "        for k in Agg_yr_list:\n",
        "            p_k = p_j + k\n",
        "            # print(p_k)\n",
        "            Data = open(p_k, 'r')\n",
        "            F = json.load(Data)\n",
        "            for t in F['data']['pincodes']:\n",
        "                Name = t['name']\n",
        "                registeredUser = t['registeredUsers']\n",
        "                col6['District'].append(Name)\n",
        "                col6['RegisteredUser'].append(registeredUser)\n",
        "                col6['State'].append(i)\n",
        "                col6['Year'].append(j)\n",
        "                col6['Quater'].append(int(k.strip('.json')))\n",
        "df_top_user = pd.DataFrame(col6)\n",
        "# df_top_user\n"
      ]
    },
    {
      "cell_type": "code",
      "execution_count": null,
      "metadata": {
        "colab": {
          "base_uri": "https://localhost:8080/"
        },
        "id": "1yOVG-l13A5m",
        "outputId": "389e61ff-8517-4b19-91e2-18d8916b509e"
      },
      "outputs": [
        {
          "name": "stdout",
          "output_type": "stream",
          "text": [
            "created all csv files\n"
          ]
        }
      ],
      "source": [
        "df_aggregated_transaction.to_csv('pagg_transaction.csv',index=False)\n",
        "df_aggregated_user.to_csv('pagg_users.csv',index=False)\n",
        "df_map_transaction.to_csv('pmap_transcation.csv',index=False)\n",
        "df_map_user.to_csv('pmap_users.csv',index=False)\n",
        "df_top_transaction.to_csv('ptop_transcation.csv',index=False)\n",
        "df_top_user.to_csv('ptop_users.csv',index=False)\n",
        "print(\"created all csv files\")"
      ]
    }
  ],
  "metadata": {
    "colab": {
      "provenance": []
    },
    "kernelspec": {
      "display_name": "Python 3",
      "name": "python3"
    },
    "language_info": {
      "codemirror_mode": {
        "name": "ipython",
        "version": 3
      },
      "file_extension": ".py",
      "mimetype": "text/x-python",
      "name": "python",
      "nbconvert_exporter": "python",
      "pygments_lexer": "ipython3",
      "version": "3.11.4"
    }
  },
  "nbformat": 4,
  "nbformat_minor": 0
}
